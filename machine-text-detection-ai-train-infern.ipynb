{
 "cells": [
  {
   "cell_type": "markdown",
   "id": "892a39a3",
   "metadata": {
    "papermill": {
     "duration": 0.005619,
     "end_time": "2023-11-22T13:29:22.106282",
     "exception": false,
     "start_time": "2023-11-22T13:29:22.100663",
     "status": "completed"
    },
    "tags": []
   },
   "source": [
    "# RoBERTa:\n",
    "**Model Size:**\n",
    "\n",
    "\n",
    "RoBERTa is typically larger than DistilBERT, especially the \"Large\" variant. It has more parameters, making it potentially more powerful but also computationally more expensive.\n",
    "\n",
    "\n",
    "**Training Techniques**:\n",
    "\n",
    "\n",
    "RoBERTa uses advanced training techniques, such as removing the Next Sentence Prediction (NSP) objective and training with larger mini-batches. These modifications often lead to improved performance.\n",
    "\n",
    "\n",
    "**Training Data**:\n",
    "\n",
    "\n",
    "RoBERTa is trained on a large corpus of text data, and it benefits from extensive pre-training. The training data and techniques contribute to its robustness and effectiveness across various NLP tasks.\n",
    "\n",
    "\n",
    "**Performance:**\n",
    "\n",
    "\n",
    "RoBERTa is known for achieving state-of-the-art results on a wide range of natural language processing benchmarks. Its performance is generally top-tier, especially for tasks like text classification, sentiment analysis, and named entity recognition."
   ]
  },
  {
   "cell_type": "markdown",
   "id": "778c9960",
   "metadata": {
    "papermill": {
     "duration": 0.004723,
     "end_time": "2023-11-22T13:29:22.116295",
     "exception": false,
     "start_time": "2023-11-22T13:29:22.111572",
     "status": "completed"
    },
    "tags": []
   },
   "source": [
    "# Load Libraries\n",
    "**Changes:**\n",
    "\n",
    "\n",
    "-Using RoBerta instead DistillBert\n",
    "\n",
    "\n",
    "-fix the test data predicting"
   ]
  },
  {
   "cell_type": "code",
   "execution_count": 1,
   "id": "05ed1480",
   "metadata": {
    "execution": {
     "iopub.execute_input": "2023-11-22T13:29:22.127694Z",
     "iopub.status.busy": "2023-11-22T13:29:22.127323Z",
     "iopub.status.idle": "2023-11-22T13:29:47.599980Z",
     "shell.execute_reply": "2023-11-22T13:29:47.598764Z"
    },
    "papermill": {
     "duration": 25.481263,
     "end_time": "2023-11-22T13:29:47.602517",
     "exception": false,
     "start_time": "2023-11-22T13:29:22.121254",
     "status": "completed"
    },
    "tags": []
   },
   "outputs": [
    {
     "name": "stdout",
     "output_type": "stream",
     "text": [
      "Requirement already satisfied: keras-core in /opt/conda/lib/python3.10/site-packages (0.1.7)\r\n",
      "Requirement already satisfied: absl-py in /opt/conda/lib/python3.10/site-packages (from keras-core) (1.4.0)\r\n",
      "Requirement already satisfied: numpy in /opt/conda/lib/python3.10/site-packages (from keras-core) (1.24.3)\r\n",
      "Requirement already satisfied: rich in /opt/conda/lib/python3.10/site-packages (from keras-core) (13.5.2)\r\n",
      "Requirement already satisfied: namex in /opt/conda/lib/python3.10/site-packages (from keras-core) (0.0.7)\r\n",
      "Requirement already satisfied: h5py in /opt/conda/lib/python3.10/site-packages (from keras-core) (3.9.0)\r\n",
      "Requirement already satisfied: dm-tree in /opt/conda/lib/python3.10/site-packages (from keras-core) (0.1.8)\r\n",
      "Requirement already satisfied: markdown-it-py>=2.2.0 in /opt/conda/lib/python3.10/site-packages (from rich->keras-core) (3.0.0)\r\n",
      "Requirement already satisfied: pygments<3.0.0,>=2.13.0 in /opt/conda/lib/python3.10/site-packages (from rich->keras-core) (2.16.1)\r\n",
      "Requirement already satisfied: mdurl~=0.1 in /opt/conda/lib/python3.10/site-packages (from markdown-it-py>=2.2.0->rich->keras-core) (0.1.0)\r\n"
     ]
    }
   ],
   "source": [
    "!pip install keras-core --upgrade\n",
    "!pip install -q keras-nlp --upgrade\n",
    "\n",
    "# This sample uses Keras Core, the multi-backend version of Keras.\n",
    "# The selected backend is TensorFlow (other supported backends are 'jax' and 'torch')\n",
    "import os\n",
    "os.environ['KERAS_BACKEND'] = 'tensorflow'"
   ]
  },
  {
   "cell_type": "code",
   "execution_count": 2,
   "id": "89f548d6",
   "metadata": {
    "_cell_guid": "b1076dfc-b9ad-4769-8c92-a6c4dae69d19",
    "_uuid": "8f2839f25d086af736a60e9eeb907d3b93b6e0e5",
    "execution": {
     "iopub.execute_input": "2023-11-22T13:29:47.615897Z",
     "iopub.status.busy": "2023-11-22T13:29:47.614978Z",
     "iopub.status.idle": "2023-11-22T13:30:02.556242Z",
     "shell.execute_reply": "2023-11-22T13:30:02.555414Z"
    },
    "papermill": {
     "duration": 14.95047,
     "end_time": "2023-11-22T13:30:02.558540",
     "exception": false,
     "start_time": "2023-11-22T13:29:47.608070",
     "status": "completed"
    },
    "tags": []
   },
   "outputs": [
    {
     "name": "stderr",
     "output_type": "stream",
     "text": [
      "/opt/conda/lib/python3.10/site-packages/scipy/__init__.py:146: UserWarning: A NumPy version >=1.16.5 and <1.23.0 is required for this version of SciPy (detected version 1.24.3\n",
      "  warnings.warn(f\"A NumPy version >={np_minversion} and <{np_maxversion}\"\n"
     ]
    },
    {
     "name": "stdout",
     "output_type": "stream",
     "text": [
      "Using TensorFlow backend\n"
     ]
    }
   ],
   "source": [
    "import numpy as np # linear algebra\n",
    "import pandas as pd # data processing, CSV file I/O (e.g. pd.read_csv)\n",
    "import tensorflow as tf\n",
    "import keras_core as keras\n",
    "import keras_nlp\n",
    "import seaborn as sns\n",
    "import matplotlib.pyplot as plt\n",
    "\n",
    "train_df = pd.read_csv('/kaggle/input/artificial-text-detection-homework/dev.csv')\n",
    "\n",
    "X = train_df['Text']\n",
    "y = train_df['Class'].apply(lambda x: 1 if x == 'M' else 0)"
   ]
  },
  {
   "cell_type": "markdown",
   "id": "f62610ed",
   "metadata": {
    "papermill": {
     "duration": 0.005112,
     "end_time": "2023-11-22T13:30:02.569190",
     "exception": false,
     "start_time": "2023-11-22T13:30:02.564078",
     "status": "completed"
    },
    "tags": []
   },
   "source": [
    "# Load The DistilBert for classification"
   ]
  },
  {
   "cell_type": "code",
   "execution_count": 3,
   "id": "9b5c6a89",
   "metadata": {
    "execution": {
     "iopub.execute_input": "2023-11-22T13:30:02.582156Z",
     "iopub.status.busy": "2023-11-22T13:30:02.581245Z",
     "iopub.status.idle": "2023-11-22T13:30:12.815216Z",
     "shell.execute_reply": "2023-11-22T13:30:12.814324Z"
    },
    "papermill": {
     "duration": 10.242706,
     "end_time": "2023-11-22T13:30:12.817212",
     "exception": false,
     "start_time": "2023-11-22T13:30:02.574506",
     "status": "completed"
    },
    "tags": []
   },
   "outputs": [
    {
     "name": "stdout",
     "output_type": "stream",
     "text": [
      "Downloading data from https://storage.googleapis.com/keras-nlp/models/roberta_base_en/v1/vocab.json\n",
      "\u001b[1m898823/898823\u001b[0m \u001b[32m━━━━━━━━━━━━━━━━━━━━\u001b[0m\u001b[37m\u001b[0m \u001b[1m0s\u001b[0m 0us/step       \n",
      "Downloading data from https://storage.googleapis.com/keras-nlp/models/roberta_base_en/v1/merges.txt\n",
      "\u001b[1m456318/456318\u001b[0m \u001b[32m━━━━━━━━━━━━━━━━━━━━\u001b[0m\u001b[37m\u001b[0m \u001b[1m0s\u001b[0m 0us/step       \n",
      "Downloading data from https://storage.googleapis.com/keras-nlp/models/roberta_base_en/v1/model.h5\n",
      "\u001b[1m496436344/496436344\u001b[0m \u001b[32m━━━━━━━━━━━━━━━━━━━━\u001b[0m\u001b[37m\u001b[0m \u001b[1m4s\u001b[0m 0us/step\n"
     ]
    },
    {
     "data": {
      "text/html": [
       "<pre style=\"white-space:pre;overflow-x:auto;line-height:normal;font-family:Menlo,'DejaVu Sans Mono',consolas,'Courier New',monospace\"><span style=\"font-weight: bold\">Preprocessor: \"preprocessor_4_tweets\"</span>\n",
       "</pre>\n"
      ],
      "text/plain": [
       "\u001b[1mPreprocessor: \"preprocessor_4_tweets\"\u001b[0m\n"
      ]
     },
     "metadata": {},
     "output_type": "display_data"
    },
    {
     "data": {
      "text/html": [
       "<pre style=\"white-space:pre;overflow-x:auto;line-height:normal;font-family:Menlo,'DejaVu Sans Mono',consolas,'Courier New',monospace\">┏━━━━━━━━━━━━━━━━━━━━━━━━━━━━━━━━━━━━━━━━━━━━━━━━━━━━┳━━━━━━━━━━━━━━━━━━━━━━━━━━━━━━━━━━━━━━━━━━━━━━━━━━━━━┓\n",
       "┃<span style=\"font-weight: bold\"> Tokenizer (type)                                   </span>┃<span style=\"font-weight: bold\">                                             Vocab # </span>┃\n",
       "┡━━━━━━━━━━━━━━━━━━━━━━━━━━━━━━━━━━━━━━━━━━━━━━━━━━━━╇━━━━━━━━━━━━━━━━━━━━━━━━━━━━━━━━━━━━━━━━━━━━━━━━━━━━━┩\n",
       "│ roberta_tokenizer (<span style=\"color: #0087ff; text-decoration-color: #0087ff\">RobertaTokenizer</span>)               │                                              <span style=\"color: #00af00; text-decoration-color: #00af00\">50,265</span> │\n",
       "└────────────────────────────────────────────────────┴─────────────────────────────────────────────────────┘\n",
       "</pre>\n"
      ],
      "text/plain": [
       "┏━━━━━━━━━━━━━━━━━━━━━━━━━━━━━━━━━━━━━━━━━━━━━━━━━━━━┳━━━━━━━━━━━━━━━━━━━━━━━━━━━━━━━━━━━━━━━━━━━━━━━━━━━━━┓\n",
       "┃\u001b[1m \u001b[0m\u001b[1mTokenizer (type)                                  \u001b[0m\u001b[1m \u001b[0m┃\u001b[1m \u001b[0m\u001b[1m                                            Vocab #\u001b[0m\u001b[1m \u001b[0m┃\n",
       "┡━━━━━━━━━━━━━━━━━━━━━━━━━━━━━━━━━━━━━━━━━━━━━━━━━━━━╇━━━━━━━━━━━━━━━━━━━━━━━━━━━━━━━━━━━━━━━━━━━━━━━━━━━━━┩\n",
       "│ roberta_tokenizer (\u001b[38;5;33mRobertaTokenizer\u001b[0m)               │                                              \u001b[38;5;34m50,265\u001b[0m │\n",
       "└────────────────────────────────────────────────────┴─────────────────────────────────────────────────────┘\n"
      ]
     },
     "metadata": {},
     "output_type": "display_data"
    },
    {
     "data": {
      "text/html": [
       "<pre style=\"white-space:pre;overflow-x:auto;line-height:normal;font-family:Menlo,'DejaVu Sans Mono',consolas,'Courier New',monospace\"><span style=\"font-weight: bold\">Model: \"roberta_classifier\"</span>\n",
       "</pre>\n"
      ],
      "text/plain": [
       "\u001b[1mModel: \"roberta_classifier\"\u001b[0m\n"
      ]
     },
     "metadata": {},
     "output_type": "display_data"
    },
    {
     "data": {
      "text/html": [
       "<pre style=\"white-space:pre;overflow-x:auto;line-height:normal;font-family:Menlo,'DejaVu Sans Mono',consolas,'Courier New',monospace\">┏━━━━━━━━━━━━━━━━━━━━━━━━━━━━━━━┳━━━━━━━━━━━━━━━━━━━━━━━━━━━┳━━━━━━━━━━━━━┳━━━━━━━━━━━━━━━━━━━━━━━━━━━━━━━━┓\n",
       "┃<span style=\"font-weight: bold\"> Layer (type)                  </span>┃<span style=\"font-weight: bold\"> Output Shape              </span>┃<span style=\"font-weight: bold\">     Param # </span>┃<span style=\"font-weight: bold\"> Connected to                   </span>┃\n",
       "┡━━━━━━━━━━━━━━━━━━━━━━━━━━━━━━━╇━━━━━━━━━━━━━━━━━━━━━━━━━━━╇━━━━━━━━━━━━━╇━━━━━━━━━━━━━━━━━━━━━━━━━━━━━━━━┩\n",
       "│ padding_mask (<span style=\"color: #0087ff; text-decoration-color: #0087ff\">InputLayer</span>)     │ (<span style=\"color: #00d7ff; text-decoration-color: #00d7ff\">None</span>, <span style=\"color: #00d7ff; text-decoration-color: #00d7ff\">None</span>)              │           <span style=\"color: #00af00; text-decoration-color: #00af00\">0</span> │ -                              │\n",
       "├───────────────────────────────┼───────────────────────────┼─────────────┼────────────────────────────────┤\n",
       "│ token_ids (<span style=\"color: #0087ff; text-decoration-color: #0087ff\">InputLayer</span>)        │ (<span style=\"color: #00d7ff; text-decoration-color: #00d7ff\">None</span>, <span style=\"color: #00d7ff; text-decoration-color: #00d7ff\">None</span>)              │           <span style=\"color: #00af00; text-decoration-color: #00af00\">0</span> │ -                              │\n",
       "├───────────────────────────────┼───────────────────────────┼─────────────┼────────────────────────────────┤\n",
       "│ roberta_backbone              │ (<span style=\"color: #00d7ff; text-decoration-color: #00d7ff\">None</span>, <span style=\"color: #00d7ff; text-decoration-color: #00d7ff\">None</span>, <span style=\"color: #00af00; text-decoration-color: #00af00\">768</span>)         │ <span style=\"color: #00af00; text-decoration-color: #00af00\">124,052,736</span> │ padding_mask[<span style=\"color: #00af00; text-decoration-color: #00af00\">0</span>][<span style=\"color: #00af00; text-decoration-color: #00af00\">0</span>],            │\n",
       "│ (<span style=\"color: #0087ff; text-decoration-color: #0087ff\">RobertaBackbone</span>)             │                           │             │ token_ids[<span style=\"color: #00af00; text-decoration-color: #00af00\">0</span>][<span style=\"color: #00af00; text-decoration-color: #00af00\">0</span>]                │\n",
       "├───────────────────────────────┼───────────────────────────┼─────────────┼────────────────────────────────┤\n",
       "│ get_item (<span style=\"color: #0087ff; text-decoration-color: #0087ff\">GetItem</span>)            │ (<span style=\"color: #00d7ff; text-decoration-color: #00d7ff\">None</span>, <span style=\"color: #00af00; text-decoration-color: #00af00\">768</span>)               │           <span style=\"color: #00af00; text-decoration-color: #00af00\">0</span> │ roberta_backbone[<span style=\"color: #00af00; text-decoration-color: #00af00\">0</span>][<span style=\"color: #00af00; text-decoration-color: #00af00\">0</span>]         │\n",
       "├───────────────────────────────┼───────────────────────────┼─────────────┼────────────────────────────────┤\n",
       "│ pooled_dropout (<span style=\"color: #0087ff; text-decoration-color: #0087ff\">Dropout</span>)      │ (<span style=\"color: #00d7ff; text-decoration-color: #00d7ff\">None</span>, <span style=\"color: #00af00; text-decoration-color: #00af00\">768</span>)               │           <span style=\"color: #00af00; text-decoration-color: #00af00\">0</span> │ get_item[<span style=\"color: #00af00; text-decoration-color: #00af00\">0</span>][<span style=\"color: #00af00; text-decoration-color: #00af00\">0</span>]                 │\n",
       "├───────────────────────────────┼───────────────────────────┼─────────────┼────────────────────────────────┤\n",
       "│ pooled_dense (<span style=\"color: #0087ff; text-decoration-color: #0087ff\">Dense</span>)          │ (<span style=\"color: #00d7ff; text-decoration-color: #00d7ff\">None</span>, <span style=\"color: #00af00; text-decoration-color: #00af00\">768</span>)               │     <span style=\"color: #00af00; text-decoration-color: #00af00\">590,592</span> │ pooled_dropout[<span style=\"color: #00af00; text-decoration-color: #00af00\">0</span>][<span style=\"color: #00af00; text-decoration-color: #00af00\">0</span>]           │\n",
       "├───────────────────────────────┼───────────────────────────┼─────────────┼────────────────────────────────┤\n",
       "│ classifier_dropout (<span style=\"color: #0087ff; text-decoration-color: #0087ff\">Dropout</span>)  │ (<span style=\"color: #00d7ff; text-decoration-color: #00d7ff\">None</span>, <span style=\"color: #00af00; text-decoration-color: #00af00\">768</span>)               │           <span style=\"color: #00af00; text-decoration-color: #00af00\">0</span> │ pooled_dense[<span style=\"color: #00af00; text-decoration-color: #00af00\">0</span>][<span style=\"color: #00af00; text-decoration-color: #00af00\">0</span>]             │\n",
       "├───────────────────────────────┼───────────────────────────┼─────────────┼────────────────────────────────┤\n",
       "│ logits (<span style=\"color: #0087ff; text-decoration-color: #0087ff\">Dense</span>)                │ (<span style=\"color: #00d7ff; text-decoration-color: #00d7ff\">None</span>, <span style=\"color: #00af00; text-decoration-color: #00af00\">2</span>)                 │       <span style=\"color: #00af00; text-decoration-color: #00af00\">1,538</span> │ classifier_dropout[<span style=\"color: #00af00; text-decoration-color: #00af00\">0</span>][<span style=\"color: #00af00; text-decoration-color: #00af00\">0</span>]       │\n",
       "└───────────────────────────────┴───────────────────────────┴─────────────┴────────────────────────────────┘\n",
       "</pre>\n"
      ],
      "text/plain": [
       "┏━━━━━━━━━━━━━━━━━━━━━━━━━━━━━━━┳━━━━━━━━━━━━━━━━━━━━━━━━━━━┳━━━━━━━━━━━━━┳━━━━━━━━━━━━━━━━━━━━━━━━━━━━━━━━┓\n",
       "┃\u001b[1m \u001b[0m\u001b[1mLayer (type)                 \u001b[0m\u001b[1m \u001b[0m┃\u001b[1m \u001b[0m\u001b[1mOutput Shape             \u001b[0m\u001b[1m \u001b[0m┃\u001b[1m \u001b[0m\u001b[1m    Param #\u001b[0m\u001b[1m \u001b[0m┃\u001b[1m \u001b[0m\u001b[1mConnected to                  \u001b[0m\u001b[1m \u001b[0m┃\n",
       "┡━━━━━━━━━━━━━━━━━━━━━━━━━━━━━━━╇━━━━━━━━━━━━━━━━━━━━━━━━━━━╇━━━━━━━━━━━━━╇━━━━━━━━━━━━━━━━━━━━━━━━━━━━━━━━┩\n",
       "│ padding_mask (\u001b[38;5;33mInputLayer\u001b[0m)     │ (\u001b[38;5;45mNone\u001b[0m, \u001b[38;5;45mNone\u001b[0m)              │           \u001b[38;5;34m0\u001b[0m │ -                              │\n",
       "├───────────────────────────────┼───────────────────────────┼─────────────┼────────────────────────────────┤\n",
       "│ token_ids (\u001b[38;5;33mInputLayer\u001b[0m)        │ (\u001b[38;5;45mNone\u001b[0m, \u001b[38;5;45mNone\u001b[0m)              │           \u001b[38;5;34m0\u001b[0m │ -                              │\n",
       "├───────────────────────────────┼───────────────────────────┼─────────────┼────────────────────────────────┤\n",
       "│ roberta_backbone              │ (\u001b[38;5;45mNone\u001b[0m, \u001b[38;5;45mNone\u001b[0m, \u001b[38;5;34m768\u001b[0m)         │ \u001b[38;5;34m124,052,736\u001b[0m │ padding_mask[\u001b[38;5;34m0\u001b[0m][\u001b[38;5;34m0\u001b[0m],            │\n",
       "│ (\u001b[38;5;33mRobertaBackbone\u001b[0m)             │                           │             │ token_ids[\u001b[38;5;34m0\u001b[0m][\u001b[38;5;34m0\u001b[0m]                │\n",
       "├───────────────────────────────┼───────────────────────────┼─────────────┼────────────────────────────────┤\n",
       "│ get_item (\u001b[38;5;33mGetItem\u001b[0m)            │ (\u001b[38;5;45mNone\u001b[0m, \u001b[38;5;34m768\u001b[0m)               │           \u001b[38;5;34m0\u001b[0m │ roberta_backbone[\u001b[38;5;34m0\u001b[0m][\u001b[38;5;34m0\u001b[0m]         │\n",
       "├───────────────────────────────┼───────────────────────────┼─────────────┼────────────────────────────────┤\n",
       "│ pooled_dropout (\u001b[38;5;33mDropout\u001b[0m)      │ (\u001b[38;5;45mNone\u001b[0m, \u001b[38;5;34m768\u001b[0m)               │           \u001b[38;5;34m0\u001b[0m │ get_item[\u001b[38;5;34m0\u001b[0m][\u001b[38;5;34m0\u001b[0m]                 │\n",
       "├───────────────────────────────┼───────────────────────────┼─────────────┼────────────────────────────────┤\n",
       "│ pooled_dense (\u001b[38;5;33mDense\u001b[0m)          │ (\u001b[38;5;45mNone\u001b[0m, \u001b[38;5;34m768\u001b[0m)               │     \u001b[38;5;34m590,592\u001b[0m │ pooled_dropout[\u001b[38;5;34m0\u001b[0m][\u001b[38;5;34m0\u001b[0m]           │\n",
       "├───────────────────────────────┼───────────────────────────┼─────────────┼────────────────────────────────┤\n",
       "│ classifier_dropout (\u001b[38;5;33mDropout\u001b[0m)  │ (\u001b[38;5;45mNone\u001b[0m, \u001b[38;5;34m768\u001b[0m)               │           \u001b[38;5;34m0\u001b[0m │ pooled_dense[\u001b[38;5;34m0\u001b[0m][\u001b[38;5;34m0\u001b[0m]             │\n",
       "├───────────────────────────────┼───────────────────────────┼─────────────┼────────────────────────────────┤\n",
       "│ logits (\u001b[38;5;33mDense\u001b[0m)                │ (\u001b[38;5;45mNone\u001b[0m, \u001b[38;5;34m2\u001b[0m)                 │       \u001b[38;5;34m1,538\u001b[0m │ classifier_dropout[\u001b[38;5;34m0\u001b[0m][\u001b[38;5;34m0\u001b[0m]       │\n",
       "└───────────────────────────────┴───────────────────────────┴─────────────┴────────────────────────────────┘\n"
      ]
     },
     "metadata": {},
     "output_type": "display_data"
    },
    {
     "data": {
      "text/html": [
       "<pre style=\"white-space:pre;overflow-x:auto;line-height:normal;font-family:Menlo,'DejaVu Sans Mono',consolas,'Courier New',monospace\"><span style=\"font-weight: bold\"> Total params: </span><span style=\"color: #00af00; text-decoration-color: #00af00\">124,644,866</span> (475.48 MB)\n",
       "</pre>\n"
      ],
      "text/plain": [
       "\u001b[1m Total params: \u001b[0m\u001b[38;5;34m124,644,866\u001b[0m (475.48 MB)\n"
      ]
     },
     "metadata": {},
     "output_type": "display_data"
    },
    {
     "data": {
      "text/html": [
       "<pre style=\"white-space:pre;overflow-x:auto;line-height:normal;font-family:Menlo,'DejaVu Sans Mono',consolas,'Courier New',monospace\"><span style=\"font-weight: bold\"> Trainable params: </span><span style=\"color: #00af00; text-decoration-color: #00af00\">124,644,866</span> (475.48 MB)\n",
       "</pre>\n"
      ],
      "text/plain": [
       "\u001b[1m Trainable params: \u001b[0m\u001b[38;5;34m124,644,866\u001b[0m (475.48 MB)\n"
      ]
     },
     "metadata": {},
     "output_type": "display_data"
    },
    {
     "data": {
      "text/html": [
       "<pre style=\"white-space:pre;overflow-x:auto;line-height:normal;font-family:Menlo,'DejaVu Sans Mono',consolas,'Courier New',monospace\"><span style=\"font-weight: bold\"> Non-trainable params: </span><span style=\"color: #00af00; text-decoration-color: #00af00\">0</span> (0.00 B)\n",
       "</pre>\n"
      ],
      "text/plain": [
       "\u001b[1m Non-trainable params: \u001b[0m\u001b[38;5;34m0\u001b[0m (0.00 B)\n"
      ]
     },
     "metadata": {},
     "output_type": "display_data"
    }
   ],
   "source": [
    "# Load a DistilBERT model.\n",
    "preset= \"roberta_base_en\"\n",
    "\n",
    "# Use a shorter sequence length.\n",
    "preprocessor = keras_nlp.models.RobertaPreprocessor.from_preset(preset,\n",
    "                                                                   sequence_length=160,\n",
    "                                                                   name=\"preprocessor_4_tweets\"\n",
    "                                                                  )\n",
    "\n",
    "# Pretrained classifier.\n",
    "classifier = keras_nlp.models.RobertaClassifier.from_preset(preset,\n",
    "                                                               preprocessor = preprocessor, \n",
    "                                                               num_classes=2)\n",
    "\n",
    "classifier.summary()"
   ]
  },
  {
   "cell_type": "markdown",
   "id": "a5b17556",
   "metadata": {
    "papermill": {
     "duration": 0.011154,
     "end_time": "2023-11-22T13:30:12.840202",
     "exception": false,
     "start_time": "2023-11-22T13:30:12.829048",
     "status": "completed"
    },
    "tags": []
   },
   "source": [
    "# Prepare Data"
   ]
  },
  {
   "cell_type": "code",
   "execution_count": 4,
   "id": "12efa268",
   "metadata": {
    "execution": {
     "iopub.execute_input": "2023-11-22T13:30:12.865040Z",
     "iopub.status.busy": "2023-11-22T13:30:12.864394Z",
     "iopub.status.idle": "2023-11-22T13:30:12.872969Z",
     "shell.execute_reply": "2023-11-22T13:30:12.872064Z"
    },
    "papermill": {
     "duration": 0.023277,
     "end_time": "2023-11-22T13:30:12.874909",
     "exception": false,
     "start_time": "2023-11-22T13:30:12.851632",
     "status": "completed"
    },
    "tags": []
   },
   "outputs": [],
   "source": [
    "def remove_br_tags(text):\n",
    "    return text.replace('<br />', '')\n",
    "\n",
    "X = X.apply(remove_br_tags)"
   ]
  },
  {
   "cell_type": "code",
   "execution_count": 5,
   "id": "ce16f523",
   "metadata": {
    "execution": {
     "iopub.execute_input": "2023-11-22T13:30:12.900025Z",
     "iopub.status.busy": "2023-11-22T13:30:12.899283Z",
     "iopub.status.idle": "2023-11-22T13:30:13.123900Z",
     "shell.execute_reply": "2023-11-22T13:30:13.123063Z"
    },
    "papermill": {
     "duration": 0.240218,
     "end_time": "2023-11-22T13:30:13.126565",
     "exception": false,
     "start_time": "2023-11-22T13:30:12.886347",
     "status": "completed"
    },
    "tags": []
   },
   "outputs": [],
   "source": [
    "from sklearn.model_selection import train_test_split\n",
    "# Assuming train_X and train_y are your features and labels\n",
    "X_train, X_val, y_train, y_val = train_test_split(X, y, test_size=0.2, random_state=42)"
   ]
  },
  {
   "cell_type": "markdown",
   "id": "962e0924",
   "metadata": {
    "papermill": {
     "duration": 0.011476,
     "end_time": "2023-11-22T13:30:13.151291",
     "exception": false,
     "start_time": "2023-11-22T13:30:13.139815",
     "status": "completed"
    },
    "tags": []
   },
   "source": [
    "# Compile The Model"
   ]
  },
  {
   "cell_type": "code",
   "execution_count": 6,
   "id": "b61e6abb",
   "metadata": {
    "execution": {
     "iopub.execute_input": "2023-11-22T13:30:13.175561Z",
     "iopub.status.busy": "2023-11-22T13:30:13.174972Z",
     "iopub.status.idle": "2023-11-22T13:30:13.184102Z",
     "shell.execute_reply": "2023-11-22T13:30:13.183379Z"
    },
    "papermill": {
     "duration": 0.023552,
     "end_time": "2023-11-22T13:30:13.185971",
     "exception": false,
     "start_time": "2023-11-22T13:30:13.162419",
     "status": "completed"
    },
    "tags": []
   },
   "outputs": [],
   "source": [
    "# Compile\n",
    "classifier.compile(\n",
    "    loss=keras.losses.SparseCategoricalCrossentropy(from_logits=True), #'binary_crossentropy',\n",
    "    optimizer=keras.optimizers.Adam(1e-5),\n",
    "    metrics= [\"accuracy\"]  \n",
    ")"
   ]
  },
  {
   "cell_type": "markdown",
   "id": "4cf62b39",
   "metadata": {
    "papermill": {
     "duration": 0.01126,
     "end_time": "2023-11-22T13:30:13.208567",
     "exception": false,
     "start_time": "2023-11-22T13:30:13.197307",
     "status": "completed"
    },
    "tags": []
   },
   "source": [
    "# Train (Finetune) DistilBertForClassification"
   ]
  },
  {
   "cell_type": "code",
   "execution_count": 7,
   "id": "3415c347",
   "metadata": {
    "execution": {
     "iopub.execute_input": "2023-11-22T13:30:13.232539Z",
     "iopub.status.busy": "2023-11-22T13:30:13.231922Z",
     "iopub.status.idle": "2023-11-22T13:30:13.236583Z",
     "shell.execute_reply": "2023-11-22T13:30:13.235685Z"
    },
    "papermill": {
     "duration": 0.018948,
     "end_time": "2023-11-22T13:30:13.238477",
     "exception": false,
     "start_time": "2023-11-22T13:30:13.219529",
     "status": "completed"
    },
    "tags": []
   },
   "outputs": [],
   "source": [
    "early_stopping = tf.keras.callbacks.EarlyStopping(\n",
    "    patience = 60, \n",
    "    min_delta = 1e-4, \n",
    "    restore_best_weights = True\n",
    ")"
   ]
  },
  {
   "cell_type": "code",
   "execution_count": 8,
   "id": "485270c5",
   "metadata": {
    "execution": {
     "iopub.execute_input": "2023-11-22T13:30:13.262747Z",
     "iopub.status.busy": "2023-11-22T13:30:13.262096Z",
     "iopub.status.idle": "2023-11-22T14:10:21.959953Z",
     "shell.execute_reply": "2023-11-22T14:10:21.958893Z"
    },
    "papermill": {
     "duration": 2408.712139,
     "end_time": "2023-11-22T14:10:21.962296",
     "exception": false,
     "start_time": "2023-11-22T13:30:13.250157",
     "status": "completed"
    },
    "tags": []
   },
   "outputs": [
    {
     "name": "stdout",
     "output_type": "stream",
     "text": [
      "Epoch 1/100\n",
      "\u001b[1m50/50\u001b[0m \u001b[32m━━━━━━━━━━━━━━━━━━━━\u001b[0m\u001b[37m\u001b[0m \u001b[1m121s\u001b[0m 753ms/step - accuracy: 0.7094 - loss: 0.5835 - val_accuracy: 0.9875 - val_loss: 0.0453\n",
      "Epoch 2/100\n",
      "\u001b[1m50/50\u001b[0m \u001b[32m━━━━━━━━━━━━━━━━━━━━\u001b[0m\u001b[37m\u001b[0m \u001b[1m31s\u001b[0m 579ms/step - accuracy: 0.9806 - loss: 0.0615 - val_accuracy: 1.0000 - val_loss: 0.0053\n",
      "Epoch 3/100\n",
      "\u001b[1m50/50\u001b[0m \u001b[32m━━━━━━━━━━━━━━━━━━━━\u001b[0m\u001b[37m\u001b[0m \u001b[1m30s\u001b[0m 578ms/step - accuracy: 0.9890 - loss: 0.0227 - val_accuracy: 1.0000 - val_loss: 0.0018\n",
      "Epoch 4/100\n",
      "\u001b[1m50/50\u001b[0m \u001b[32m━━━━━━━━━━━━━━━━━━━━\u001b[0m\u001b[37m\u001b[0m \u001b[1m30s\u001b[0m 574ms/step - accuracy: 1.0000 - loss: 0.0036 - val_accuracy: 1.0000 - val_loss: 9.7034e-04\n",
      "Epoch 5/100\n",
      "\u001b[1m50/50\u001b[0m \u001b[32m━━━━━━━━━━━━━━━━━━━━\u001b[0m\u001b[37m\u001b[0m \u001b[1m31s\u001b[0m 594ms/step - accuracy: 1.0000 - loss: 0.0034 - val_accuracy: 1.0000 - val_loss: 0.0022\n",
      "Epoch 6/100\n",
      "\u001b[1m50/50\u001b[0m \u001b[32m━━━━━━━━━━━━━━━━━━━━\u001b[0m\u001b[37m\u001b[0m \u001b[1m30s\u001b[0m 574ms/step - accuracy: 1.0000 - loss: 0.0010 - val_accuracy: 1.0000 - val_loss: 8.3761e-04\n",
      "Epoch 7/100\n",
      "\u001b[1m50/50\u001b[0m \u001b[32m━━━━━━━━━━━━━━━━━━━━\u001b[0m\u001b[37m\u001b[0m \u001b[1m30s\u001b[0m 576ms/step - accuracy: 1.0000 - loss: 8.6383e-04 - val_accuracy: 1.0000 - val_loss: 4.4874e-04\n",
      "Epoch 8/100\n",
      "\u001b[1m50/50\u001b[0m \u001b[32m━━━━━━━━━━━━━━━━━━━━\u001b[0m\u001b[37m\u001b[0m \u001b[1m30s\u001b[0m 563ms/step - accuracy: 1.0000 - loss: 6.0293e-04 - val_accuracy: 1.0000 - val_loss: 4.2408e-04\n",
      "Epoch 9/100\n",
      "\u001b[1m50/50\u001b[0m \u001b[32m━━━━━━━━━━━━━━━━━━━━\u001b[0m\u001b[37m\u001b[0m \u001b[1m30s\u001b[0m 566ms/step - accuracy: 1.0000 - loss: 8.5567e-04 - val_accuracy: 1.0000 - val_loss: 4.1964e-04\n",
      "Epoch 10/100\n",
      "\u001b[1m50/50\u001b[0m \u001b[32m━━━━━━━━━━━━━━━━━━━━\u001b[0m\u001b[37m\u001b[0m \u001b[1m32s\u001b[0m 604ms/step - accuracy: 0.9969 - loss: 0.0096 - val_accuracy: 1.0000 - val_loss: 7.1571e-04\n",
      "Epoch 11/100\n",
      "\u001b[1m50/50\u001b[0m \u001b[32m━━━━━━━━━━━━━━━━━━━━\u001b[0m\u001b[37m\u001b[0m \u001b[1m30s\u001b[0m 563ms/step - accuracy: 0.9983 - loss: 0.0052 - val_accuracy: 1.0000 - val_loss: 5.2303e-04\n",
      "Epoch 12/100\n",
      "\u001b[1m50/50\u001b[0m \u001b[32m━━━━━━━━━━━━━━━━━━━━\u001b[0m\u001b[37m\u001b[0m \u001b[1m30s\u001b[0m 575ms/step - accuracy: 0.9961 - loss: 0.0060 - val_accuracy: 1.0000 - val_loss: 2.0682e-04\n",
      "Epoch 13/100\n",
      "\u001b[1m50/50\u001b[0m \u001b[32m━━━━━━━━━━━━━━━━━━━━\u001b[0m\u001b[37m\u001b[0m \u001b[1m30s\u001b[0m 566ms/step - accuracy: 1.0000 - loss: 5.2931e-04 - val_accuracy: 1.0000 - val_loss: 1.5766e-04\n",
      "Epoch 14/100\n",
      "\u001b[1m50/50\u001b[0m \u001b[32m━━━━━━━━━━━━━━━━━━━━\u001b[0m\u001b[37m\u001b[0m \u001b[1m30s\u001b[0m 563ms/step - accuracy: 1.0000 - loss: 3.7463e-04 - val_accuracy: 1.0000 - val_loss: 1.2609e-04\n",
      "Epoch 15/100\n",
      "\u001b[1m50/50\u001b[0m \u001b[32m━━━━━━━━━━━━━━━━━━━━\u001b[0m\u001b[37m\u001b[0m \u001b[1m32s\u001b[0m 606ms/step - accuracy: 1.0000 - loss: 3.3756e-04 - val_accuracy: 1.0000 - val_loss: 1.0735e-04\n",
      "Epoch 16/100\n",
      "\u001b[1m50/50\u001b[0m \u001b[32m━━━━━━━━━━━━━━━━━━━━\u001b[0m\u001b[37m\u001b[0m \u001b[1m31s\u001b[0m 576ms/step - accuracy: 1.0000 - loss: 3.0355e-04 - val_accuracy: 1.0000 - val_loss: 9.4990e-05\n",
      "Epoch 17/100\n",
      "\u001b[1m50/50\u001b[0m \u001b[32m━━━━━━━━━━━━━━━━━━━━\u001b[0m\u001b[37m\u001b[0m \u001b[1m30s\u001b[0m 562ms/step - accuracy: 1.0000 - loss: 2.2827e-04 - val_accuracy: 1.0000 - val_loss: 8.4639e-05\n",
      "Epoch 18/100\n",
      "\u001b[1m50/50\u001b[0m \u001b[32m━━━━━━━━━━━━━━━━━━━━\u001b[0m\u001b[37m\u001b[0m \u001b[1m30s\u001b[0m 564ms/step - accuracy: 1.0000 - loss: 4.1843e-04 - val_accuracy: 1.0000 - val_loss: 7.9831e-05\n",
      "Epoch 19/100\n",
      "\u001b[1m50/50\u001b[0m \u001b[32m━━━━━━━━━━━━━━━━━━━━\u001b[0m\u001b[37m\u001b[0m \u001b[1m30s\u001b[0m 565ms/step - accuracy: 1.0000 - loss: 1.8368e-04 - val_accuracy: 1.0000 - val_loss: 7.0902e-05\n",
      "Epoch 20/100\n",
      "\u001b[1m50/50\u001b[0m \u001b[32m━━━━━━━━━━━━━━━━━━━━\u001b[0m\u001b[37m\u001b[0m \u001b[1m32s\u001b[0m 607ms/step - accuracy: 1.0000 - loss: 1.7245e-04 - val_accuracy: 1.0000 - val_loss: 6.4196e-05\n",
      "Epoch 21/100\n",
      "\u001b[1m50/50\u001b[0m \u001b[32m━━━━━━━━━━━━━━━━━━━━\u001b[0m\u001b[37m\u001b[0m \u001b[1m30s\u001b[0m 567ms/step - accuracy: 1.0000 - loss: 1.6405e-04 - val_accuracy: 1.0000 - val_loss: 5.8515e-05\n",
      "Epoch 22/100\n",
      "\u001b[1m50/50\u001b[0m \u001b[32m━━━━━━━━━━━━━━━━━━━━\u001b[0m\u001b[37m\u001b[0m \u001b[1m30s\u001b[0m 564ms/step - accuracy: 1.0000 - loss: 1.6237e-04 - val_accuracy: 1.0000 - val_loss: 5.4117e-05\n",
      "Epoch 23/100\n",
      "\u001b[1m50/50\u001b[0m \u001b[32m━━━━━━━━━━━━━━━━━━━━\u001b[0m\u001b[37m\u001b[0m \u001b[1m30s\u001b[0m 565ms/step - accuracy: 1.0000 - loss: 1.4371e-04 - val_accuracy: 1.0000 - val_loss: 5.0449e-05\n",
      "Epoch 24/100\n",
      "\u001b[1m50/50\u001b[0m \u001b[32m━━━━━━━━━━━━━━━━━━━━\u001b[0m\u001b[37m\u001b[0m \u001b[1m30s\u001b[0m 564ms/step - accuracy: 1.0000 - loss: 2.2221e-04 - val_accuracy: 1.0000 - val_loss: 6.3572e-05\n",
      "Epoch 25/100\n",
      "\u001b[1m50/50\u001b[0m \u001b[32m━━━━━━━━━━━━━━━━━━━━\u001b[0m\u001b[37m\u001b[0m \u001b[1m32s\u001b[0m 609ms/step - accuracy: 1.0000 - loss: 1.3400e-04 - val_accuracy: 1.0000 - val_loss: 4.9090e-05\n",
      "Epoch 26/100\n",
      "\u001b[1m50/50\u001b[0m \u001b[32m━━━━━━━━━━━━━━━━━━━━\u001b[0m\u001b[37m\u001b[0m \u001b[1m30s\u001b[0m 565ms/step - accuracy: 1.0000 - loss: 1.1780e-04 - val_accuracy: 1.0000 - val_loss: 4.5038e-05\n",
      "Epoch 27/100\n",
      "\u001b[1m50/50\u001b[0m \u001b[32m━━━━━━━━━━━━━━━━━━━━\u001b[0m\u001b[37m\u001b[0m \u001b[1m29s\u001b[0m 562ms/step - accuracy: 1.0000 - loss: 9.6866e-05 - val_accuracy: 1.0000 - val_loss: 4.1620e-05\n",
      "Epoch 28/100\n",
      "\u001b[1m50/50\u001b[0m \u001b[32m━━━━━━━━━━━━━━━━━━━━\u001b[0m\u001b[37m\u001b[0m \u001b[1m29s\u001b[0m 560ms/step - accuracy: 1.0000 - loss: 9.5540e-05 - val_accuracy: 1.0000 - val_loss: 3.8708e-05\n",
      "Epoch 29/100\n",
      "\u001b[1m50/50\u001b[0m \u001b[32m━━━━━━━━━━━━━━━━━━━━\u001b[0m\u001b[37m\u001b[0m \u001b[1m30s\u001b[0m 563ms/step - accuracy: 1.0000 - loss: 9.4786e-05 - val_accuracy: 1.0000 - val_loss: 3.6291e-05\n",
      "Epoch 30/100\n",
      "\u001b[1m50/50\u001b[0m \u001b[32m━━━━━━━━━━━━━━━━━━━━\u001b[0m\u001b[37m\u001b[0m \u001b[1m31s\u001b[0m 604ms/step - accuracy: 1.0000 - loss: 8.1827e-05 - val_accuracy: 1.0000 - val_loss: 3.4091e-05\n",
      "Epoch 31/100\n",
      "\u001b[1m50/50\u001b[0m \u001b[32m━━━━━━━━━━━━━━━━━━━━\u001b[0m\u001b[37m\u001b[0m \u001b[1m30s\u001b[0m 565ms/step - accuracy: 1.0000 - loss: 8.7161e-05 - val_accuracy: 1.0000 - val_loss: 3.2045e-05\n",
      "Epoch 32/100\n",
      "\u001b[1m50/50\u001b[0m \u001b[32m━━━━━━━━━━━━━━━━━━━━\u001b[0m\u001b[37m\u001b[0m \u001b[1m30s\u001b[0m 564ms/step - accuracy: 1.0000 - loss: 7.3560e-05 - val_accuracy: 1.0000 - val_loss: 3.0386e-05\n",
      "Epoch 33/100\n",
      "\u001b[1m50/50\u001b[0m \u001b[32m━━━━━━━━━━━━━━━━━━━━\u001b[0m\u001b[37m\u001b[0m \u001b[1m30s\u001b[0m 564ms/step - accuracy: 1.0000 - loss: 7.0654e-05 - val_accuracy: 1.0000 - val_loss: 2.8828e-05\n",
      "Epoch 34/100\n",
      "\u001b[1m50/50\u001b[0m \u001b[32m━━━━━━━━━━━━━━━━━━━━\u001b[0m\u001b[37m\u001b[0m \u001b[1m29s\u001b[0m 561ms/step - accuracy: 1.0000 - loss: 6.5958e-05 - val_accuracy: 1.0000 - val_loss: 2.7424e-05\n",
      "Epoch 35/100\n",
      "\u001b[1m50/50\u001b[0m \u001b[32m━━━━━━━━━━━━━━━━━━━━\u001b[0m\u001b[37m\u001b[0m \u001b[1m30s\u001b[0m 562ms/step - accuracy: 1.0000 - loss: 6.5420e-05 - val_accuracy: 1.0000 - val_loss: 2.6207e-05\n",
      "Epoch 36/100\n",
      "\u001b[1m50/50\u001b[0m \u001b[32m━━━━━━━━━━━━━━━━━━━━\u001b[0m\u001b[37m\u001b[0m \u001b[1m31s\u001b[0m 601ms/step - accuracy: 1.0000 - loss: 6.0626e-05 - val_accuracy: 1.0000 - val_loss: 2.5056e-05\n",
      "Epoch 37/100\n",
      "\u001b[1m50/50\u001b[0m \u001b[32m━━━━━━━━━━━━━━━━━━━━\u001b[0m\u001b[37m\u001b[0m \u001b[1m30s\u001b[0m 563ms/step - accuracy: 1.0000 - loss: 7.0072e-05 - val_accuracy: 1.0000 - val_loss: 2.3756e-05\n",
      "Epoch 38/100\n",
      "\u001b[1m50/50\u001b[0m \u001b[32m━━━━━━━━━━━━━━━━━━━━\u001b[0m\u001b[37m\u001b[0m \u001b[1m29s\u001b[0m 560ms/step - accuracy: 1.0000 - loss: 5.6894e-05 - val_accuracy: 1.0000 - val_loss: 2.2827e-05\n",
      "Epoch 39/100\n",
      "\u001b[1m50/50\u001b[0m \u001b[32m━━━━━━━━━━━━━━━━━━━━\u001b[0m\u001b[37m\u001b[0m \u001b[1m29s\u001b[0m 560ms/step - accuracy: 1.0000 - loss: 5.2540e-05 - val_accuracy: 1.0000 - val_loss: 2.1858e-05\n",
      "Epoch 40/100\n",
      "\u001b[1m50/50\u001b[0m \u001b[32m━━━━━━━━━━━━━━━━━━━━\u001b[0m\u001b[37m\u001b[0m \u001b[1m29s\u001b[0m 560ms/step - accuracy: 1.0000 - loss: 4.8657e-05 - val_accuracy: 1.0000 - val_loss: 2.0969e-05\n",
      "Epoch 41/100\n",
      "\u001b[1m50/50\u001b[0m \u001b[32m━━━━━━━━━━━━━━━━━━━━\u001b[0m\u001b[37m\u001b[0m \u001b[1m31s\u001b[0m 602ms/step - accuracy: 1.0000 - loss: 5.5897e-05 - val_accuracy: 1.0000 - val_loss: 2.0228e-05\n",
      "Epoch 42/100\n",
      "\u001b[1m50/50\u001b[0m \u001b[32m━━━━━━━━━━━━━━━━━━━━\u001b[0m\u001b[37m\u001b[0m \u001b[1m30s\u001b[0m 562ms/step - accuracy: 1.0000 - loss: 4.6354e-05 - val_accuracy: 1.0000 - val_loss: 1.9452e-05\n",
      "Epoch 43/100\n",
      "\u001b[1m50/50\u001b[0m \u001b[32m━━━━━━━━━━━━━━━━━━━━\u001b[0m\u001b[37m\u001b[0m \u001b[1m29s\u001b[0m 562ms/step - accuracy: 1.0000 - loss: 5.4182e-05 - val_accuracy: 1.0000 - val_loss: 1.8646e-05\n",
      "Epoch 44/100\n",
      "\u001b[1m50/50\u001b[0m \u001b[32m━━━━━━━━━━━━━━━━━━━━\u001b[0m\u001b[37m\u001b[0m \u001b[1m29s\u001b[0m 562ms/step - accuracy: 1.0000 - loss: 4.2537e-05 - val_accuracy: 1.0000 - val_loss: 1.7940e-05\n",
      "Epoch 45/100\n",
      "\u001b[1m50/50\u001b[0m \u001b[32m━━━━━━━━━━━━━━━━━━━━\u001b[0m\u001b[37m\u001b[0m \u001b[1m29s\u001b[0m 560ms/step - accuracy: 1.0000 - loss: 3.8818e-05 - val_accuracy: 1.0000 - val_loss: 1.7299e-05\n",
      "Epoch 46/100\n",
      "\u001b[1m50/50\u001b[0m \u001b[32m━━━━━━━━━━━━━━━━━━━━\u001b[0m\u001b[37m\u001b[0m \u001b[1m31s\u001b[0m 601ms/step - accuracy: 1.0000 - loss: 3.8734e-05 - val_accuracy: 1.0000 - val_loss: 1.6685e-05\n",
      "Epoch 47/100\n",
      "\u001b[1m50/50\u001b[0m \u001b[32m━━━━━━━━━━━━━━━━━━━━\u001b[0m\u001b[37m\u001b[0m \u001b[1m30s\u001b[0m 562ms/step - accuracy: 1.0000 - loss: 3.6801e-05 - val_accuracy: 1.0000 - val_loss: 1.6093e-05\n",
      "Epoch 48/100\n",
      "\u001b[1m50/50\u001b[0m \u001b[32m━━━━━━━━━━━━━━━━━━━━\u001b[0m\u001b[37m\u001b[0m \u001b[1m29s\u001b[0m 561ms/step - accuracy: 1.0000 - loss: 3.5950e-05 - val_accuracy: 1.0000 - val_loss: 1.5538e-05\n",
      "Epoch 49/100\n",
      "\u001b[1m50/50\u001b[0m \u001b[32m━━━━━━━━━━━━━━━━━━━━\u001b[0m\u001b[37m\u001b[0m \u001b[1m29s\u001b[0m 561ms/step - accuracy: 1.0000 - loss: 3.5744e-05 - val_accuracy: 1.0000 - val_loss: 1.4989e-05\n",
      "Epoch 50/100\n",
      "\u001b[1m50/50\u001b[0m \u001b[32m━━━━━━━━━━━━━━━━━━━━\u001b[0m\u001b[37m\u001b[0m \u001b[1m29s\u001b[0m 561ms/step - accuracy: 1.0000 - loss: 3.4161e-05 - val_accuracy: 1.0000 - val_loss: 1.4474e-05\n",
      "Epoch 51/100\n",
      "\u001b[1m50/50\u001b[0m \u001b[32m━━━━━━━━━━━━━━━━━━━━\u001b[0m\u001b[37m\u001b[0m \u001b[1m31s\u001b[0m 602ms/step - accuracy: 1.0000 - loss: 3.2611e-05 - val_accuracy: 1.0000 - val_loss: 1.4006e-05\n",
      "Epoch 52/100\n",
      "\u001b[1m50/50\u001b[0m \u001b[32m━━━━━━━━━━━━━━━━━━━━\u001b[0m\u001b[37m\u001b[0m \u001b[1m30s\u001b[0m 564ms/step - accuracy: 1.0000 - loss: 3.1093e-05 - val_accuracy: 1.0000 - val_loss: 1.3553e-05\n",
      "Epoch 53/100\n",
      "\u001b[1m50/50\u001b[0m \u001b[32m━━━━━━━━━━━━━━━━━━━━\u001b[0m\u001b[37m\u001b[0m \u001b[1m29s\u001b[0m 565ms/step - accuracy: 1.0000 - loss: 3.0693e-05 - val_accuracy: 1.0000 - val_loss: 1.3134e-05\n",
      "Epoch 54/100\n",
      "\u001b[1m50/50\u001b[0m \u001b[32m━━━━━━━━━━━━━━━━━━━━\u001b[0m\u001b[37m\u001b[0m \u001b[1m30s\u001b[0m 565ms/step - accuracy: 1.0000 - loss: 3.1427e-05 - val_accuracy: 1.0000 - val_loss: 1.2676e-05\n",
      "Epoch 55/100\n",
      "\u001b[1m50/50\u001b[0m \u001b[32m━━━━━━━━━━━━━━━━━━━━\u001b[0m\u001b[37m\u001b[0m \u001b[1m30s\u001b[0m 565ms/step - accuracy: 1.0000 - loss: 2.6981e-05 - val_accuracy: 1.0000 - val_loss: 1.2235e-05\n",
      "Epoch 56/100\n",
      "\u001b[1m50/50\u001b[0m \u001b[32m━━━━━━━━━━━━━━━━━━━━\u001b[0m\u001b[37m\u001b[0m \u001b[1m32s\u001b[0m 612ms/step - accuracy: 1.0000 - loss: 3.2588e-05 - val_accuracy: 1.0000 - val_loss: 1.1890e-05\n",
      "Epoch 57/100\n",
      "\u001b[1m50/50\u001b[0m \u001b[32m━━━━━━━━━━━━━━━━━━━━\u001b[0m\u001b[37m\u001b[0m \u001b[1m30s\u001b[0m 565ms/step - accuracy: 1.0000 - loss: 2.6074e-05 - val_accuracy: 1.0000 - val_loss: 1.1530e-05\n",
      "Epoch 58/100\n",
      "\u001b[1m50/50\u001b[0m \u001b[32m━━━━━━━━━━━━━━━━━━━━\u001b[0m\u001b[37m\u001b[0m \u001b[1m30s\u001b[0m 567ms/step - accuracy: 1.0000 - loss: 2.7411e-05 - val_accuracy: 1.0000 - val_loss: 1.1271e-05\n",
      "Epoch 59/100\n",
      "\u001b[1m50/50\u001b[0m \u001b[32m━━━━━━━━━━━━━━━━━━━━\u001b[0m\u001b[37m\u001b[0m \u001b[1m30s\u001b[0m 565ms/step - accuracy: 1.0000 - loss: 2.4753e-05 - val_accuracy: 1.0000 - val_loss: 1.0916e-05\n",
      "Epoch 60/100\n",
      "\u001b[1m50/50\u001b[0m \u001b[32m━━━━━━━━━━━━━━━━━━━━\u001b[0m\u001b[37m\u001b[0m \u001b[1m30s\u001b[0m 564ms/step - accuracy: 1.0000 - loss: 2.4446e-05 - val_accuracy: 1.0000 - val_loss: 1.0553e-05\n",
      "Epoch 61/100\n",
      "\u001b[1m50/50\u001b[0m \u001b[32m━━━━━━━━━━━━━━━━━━━━\u001b[0m\u001b[37m\u001b[0m \u001b[1m32s\u001b[0m 613ms/step - accuracy: 1.0000 - loss: 2.3540e-05 - val_accuracy: 1.0000 - val_loss: 1.0232e-05\n",
      "Epoch 62/100\n",
      "\u001b[1m50/50\u001b[0m \u001b[32m━━━━━━━━━━━━━━━━━━━━\u001b[0m\u001b[37m\u001b[0m \u001b[1m30s\u001b[0m 568ms/step - accuracy: 1.0000 - loss: 2.3520e-05 - val_accuracy: 1.0000 - val_loss: 9.9264e-06\n",
      "Epoch 63/100\n",
      "\u001b[1m50/50\u001b[0m \u001b[32m━━━━━━━━━━━━━━━━━━━━\u001b[0m\u001b[37m\u001b[0m \u001b[1m30s\u001b[0m 569ms/step - accuracy: 1.0000 - loss: 2.0830e-05 - val_accuracy: 1.0000 - val_loss: 9.6272e-06\n",
      "Epoch 64/100\n",
      "\u001b[1m50/50\u001b[0m \u001b[32m━━━━━━━━━━━━━━━━━━━━\u001b[0m\u001b[37m\u001b[0m \u001b[1m30s\u001b[0m 565ms/step - accuracy: 1.0000 - loss: 2.1559e-05 - val_accuracy: 1.0000 - val_loss: 9.3352e-06\n",
      "Epoch 65/100\n",
      "\u001b[1m50/50\u001b[0m \u001b[32m━━━━━━━━━━━━━━━━━━━━\u001b[0m\u001b[37m\u001b[0m \u001b[1m30s\u001b[0m 565ms/step - accuracy: 1.0000 - loss: 2.0573e-05 - val_accuracy: 1.0000 - val_loss: 9.0475e-06\n",
      "Epoch 66/100\n",
      "\u001b[1m50/50\u001b[0m \u001b[32m━━━━━━━━━━━━━━━━━━━━\u001b[0m\u001b[37m\u001b[0m \u001b[1m31s\u001b[0m 598ms/step - accuracy: 1.0000 - loss: 1.9780e-05 - val_accuracy: 1.0000 - val_loss: 8.7928e-06\n",
      "Epoch 67/100\n",
      "\u001b[1m50/50\u001b[0m \u001b[32m━━━━━━━━━━━━━━━━━━━━\u001b[0m\u001b[37m\u001b[0m \u001b[1m30s\u001b[0m 567ms/step - accuracy: 1.0000 - loss: 1.9323e-05 - val_accuracy: 1.0000 - val_loss: 8.5558e-06\n",
      "Epoch 68/100\n",
      "\u001b[1m50/50\u001b[0m \u001b[32m━━━━━━━━━━━━━━━━━━━━\u001b[0m\u001b[37m\u001b[0m \u001b[1m30s\u001b[0m 569ms/step - accuracy: 1.0000 - loss: 2.1596e-05 - val_accuracy: 1.0000 - val_loss: 8.3492e-06\n",
      "Epoch 69/100\n",
      "\u001b[1m50/50\u001b[0m \u001b[32m━━━━━━━━━━━━━━━━━━━━\u001b[0m\u001b[37m\u001b[0m \u001b[1m30s\u001b[0m 568ms/step - accuracy: 1.0000 - loss: 1.8527e-05 - val_accuracy: 1.0000 - val_loss: 8.0982e-06\n",
      "Epoch 70/100\n",
      "\u001b[1m50/50\u001b[0m \u001b[32m━━━━━━━━━━━━━━━━━━━━\u001b[0m\u001b[37m\u001b[0m \u001b[1m30s\u001b[0m 571ms/step - accuracy: 1.0000 - loss: 1.7458e-05 - val_accuracy: 1.0000 - val_loss: 7.8282e-06\n",
      "Epoch 71/100\n",
      "\u001b[1m50/50\u001b[0m \u001b[32m━━━━━━━━━━━━━━━━━━━━\u001b[0m\u001b[37m\u001b[0m \u001b[1m32s\u001b[0m 618ms/step - accuracy: 1.0000 - loss: 1.6783e-05 - val_accuracy: 1.0000 - val_loss: 7.6087e-06\n",
      "Epoch 72/100\n",
      "\u001b[1m50/50\u001b[0m \u001b[32m━━━━━━━━━━━━━━━━━━━━\u001b[0m\u001b[37m\u001b[0m \u001b[1m30s\u001b[0m 568ms/step - accuracy: 1.0000 - loss: 1.6631e-05 - val_accuracy: 1.0000 - val_loss: 7.4107e-06\n",
      "Epoch 73/100\n",
      "\u001b[1m50/50\u001b[0m \u001b[32m━━━━━━━━━━━━━━━━━━━━\u001b[0m\u001b[37m\u001b[0m \u001b[1m30s\u001b[0m 570ms/step - accuracy: 1.0000 - loss: 1.5684e-05 - val_accuracy: 1.0000 - val_loss: 7.2156e-06\n",
      "Epoch 74/100\n",
      "\u001b[1m50/50\u001b[0m \u001b[32m━━━━━━━━━━━━━━━━━━━━\u001b[0m\u001b[37m\u001b[0m \u001b[1m30s\u001b[0m 570ms/step - accuracy: 1.0000 - loss: 1.5428e-05 - val_accuracy: 1.0000 - val_loss: 7.0187e-06\n",
      "Epoch 75/100\n",
      "\u001b[1m50/50\u001b[0m \u001b[32m━━━━━━━━━━━━━━━━━━━━\u001b[0m\u001b[37m\u001b[0m \u001b[1m30s\u001b[0m 570ms/step - accuracy: 1.0000 - loss: 1.4898e-05 - val_accuracy: 1.0000 - val_loss: 6.8319e-06\n",
      "Epoch 76/100\n",
      "\u001b[1m50/50\u001b[0m \u001b[32m━━━━━━━━━━━━━━━━━━━━\u001b[0m\u001b[37m\u001b[0m \u001b[1m33s\u001b[0m 626ms/step - accuracy: 1.0000 - loss: 1.4795e-05 - val_accuracy: 1.0000 - val_loss: 6.6556e-06\n"
     ]
    }
   ],
   "source": [
    "EPOCHS = 100\n",
    "BATCH_SIZE = 32\n",
    "\n",
    "# Fit\n",
    "history = classifier.fit(x=X_train,\n",
    "                         y=y_train,\n",
    "                         batch_size=BATCH_SIZE,\n",
    "                         epochs=EPOCHS, \n",
    "                         validation_data=(X_val, y_val), \n",
    "                         callbacks= [early_stopping]\n",
    "                        )"
   ]
  },
  {
   "cell_type": "markdown",
   "id": "0ac8ab1a",
   "metadata": {
    "papermill": {
     "duration": 0.339966,
     "end_time": "2023-11-22T14:10:22.699239",
     "exception": false,
     "start_time": "2023-11-22T14:10:22.359273",
     "status": "completed"
    },
    "tags": []
   },
   "source": [
    "# Predict on test"
   ]
  },
  {
   "cell_type": "code",
   "execution_count": 9,
   "id": "302888bb",
   "metadata": {
    "execution": {
     "iopub.execute_input": "2023-11-22T14:10:23.372152Z",
     "iopub.status.busy": "2023-11-22T14:10:23.371261Z",
     "iopub.status.idle": "2023-11-22T14:12:51.918287Z",
     "shell.execute_reply": "2023-11-22T14:12:51.917244Z"
    },
    "papermill": {
     "duration": 148.885623,
     "end_time": "2023-11-22T14:12:51.920894",
     "exception": false,
     "start_time": "2023-11-22T14:10:23.035271",
     "status": "completed"
    },
    "tags": []
   },
   "outputs": [
    {
     "name": "stdout",
     "output_type": "stream",
     "text": [
      "\u001b[1m625/625\u001b[0m \u001b[32m━━━━━━━━━━━━━━━━━━━━\u001b[0m\u001b[37m\u001b[0m \u001b[1m87s\u001b[0m 130ms/step\n"
     ]
    }
   ],
   "source": [
    "df_test = pd.read_csv('/kaggle/input/artificial-text-detection-homework/test.csv')\n",
    "df_test['Text'] = df_test['Text'].apply(remove_br_tags)\n",
    "\n",
    "df_test['Class'] = [('M' if np.argmax(i) == 1 else 'H') for i in classifier.predict(df_test['Text'].to_list())]"
   ]
  },
  {
   "cell_type": "code",
   "execution_count": 10,
   "id": "df228627",
   "metadata": {
    "execution": {
     "iopub.execute_input": "2023-11-22T14:12:52.757717Z",
     "iopub.status.busy": "2023-11-22T14:12:52.757337Z",
     "iopub.status.idle": "2023-11-22T14:12:52.805370Z",
     "shell.execute_reply": "2023-11-22T14:12:52.804596Z"
    },
    "papermill": {
     "duration": 0.500522,
     "end_time": "2023-11-22T14:12:52.807324",
     "exception": false,
     "start_time": "2023-11-22T14:12:52.306802",
     "status": "completed"
    },
    "tags": []
   },
   "outputs": [],
   "source": [
    "submission_df = pd.DataFrame({'ID': df_test['ID'], 'Class': df_test['Class']})\n",
    "submission_df.to_csv('submission.csv', index = False)"
   ]
  },
  {
   "cell_type": "markdown",
   "id": "abee4816",
   "metadata": {
    "papermill": {
     "duration": 0.385059,
     "end_time": "2023-11-22T14:12:53.579148",
     "exception": false,
     "start_time": "2023-11-22T14:12:53.194089",
     "status": "completed"
    },
    "tags": []
   },
   "source": [
    "# Upvote and Comment if you like this notebook😉"
   ]
  }
 ],
 "metadata": {
  "kaggle": {
   "accelerator": "gpu",
   "dataSources": [
    {
     "databundleVersionId": 6995834,
     "sourceId": 63768,
     "sourceType": "competition"
    }
   ],
   "dockerImageVersionId": 30588,
   "isGpuEnabled": true,
   "isInternetEnabled": true,
   "language": "python",
   "sourceType": "notebook"
  },
  "kernelspec": {
   "display_name": "Python 3",
   "language": "python",
   "name": "python3"
  },
  "language_info": {
   "codemirror_mode": {
    "name": "ipython",
    "version": 3
   },
   "file_extension": ".py",
   "mimetype": "text/x-python",
   "name": "python",
   "nbconvert_exporter": "python",
   "pygments_lexer": "ipython3",
   "version": "3.10.12"
  },
  "papermill": {
   "default_parameters": {},
   "duration": 2618.964193,
   "end_time": "2023-11-22T14:12:57.611179",
   "environment_variables": {},
   "exception": null,
   "input_path": "__notebook__.ipynb",
   "output_path": "__notebook__.ipynb",
   "parameters": {},
   "start_time": "2023-11-22T13:29:18.646986",
   "version": "2.4.0"
  }
 },
 "nbformat": 4,
 "nbformat_minor": 5
}
